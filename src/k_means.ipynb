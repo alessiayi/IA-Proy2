{
  "cells": [
    {
      "cell_type": "markdown",
      "metadata": {
        "id": "A-Y67zjr9Gon"
      },
      "source": [
        "# K-means\n"
      ]
    },
    {
      "cell_type": "code",
      "execution_count": 10,
      "metadata": {
        "id": "QqKUx1gDVYxF"
      },
      "outputs": [],
      "source": [
        "import numpy as np\n",
        "import os\n",
        "import cv2\n",
        "import numpy as np\n",
        "import image_processing as ip\n"
      ]
    },
    {
      "cell_type": "markdown",
      "metadata": {
        "id": "jL7ih0VCVbKv"
      },
      "source": [
        "#### Step 1: Clusterización\n"
      ]
    },
    {
      "cell_type": "code",
      "execution_count": 3,
      "metadata": {},
      "outputs": [],
      "source": [
        "class Pixel:\n",
        "    def __init__(self, rgb, x, y):\n",
        "        self.rgb = rgb\n",
        "        self.x = x\n",
        "        self.y = y"
      ]
    },
    {
      "cell_type": "code",
      "execution_count": 13,
      "metadata": {},
      "outputs": [],
      "source": [
        "class KMeans:\n",
        "    def __init__(self, k_value=3, image_path=None):\n",
        "        self.k = k_value\n",
        "        self.image_path = image_path\n",
        "        self.error = 100\n",
        "        self.max_int = 1000000\n",
        "        self.error_evolution = []\n",
        "\n",
        "    \"\"\"\n",
        "    Función para calcular la disntacia euclidiana entre dos puntos.\n",
        "    \"\"\"\n",
        "    def calculateEuclidieanDistance(self, point1, point2):\n",
        "        return sum(((int(point1[c]) - int(point2[c])) ** 2) for c in range(self.channels))\n",
        "\n",
        "    \"\"\"\n",
        "    Función para inicializar los centroides.\n",
        "    \"\"\"\n",
        "    def initializeCentroids(self, image):\n",
        "        centroids = [image[np.random.randint(0, self.rows)][np.random.randint(0, self.cols)]]\n",
        "        for _ in range(self.k-1):\n",
        "            candidate_rgb = []\n",
        "            candidate_distance = 0\n",
        "            for x in range(self.rows):\n",
        "                for y in range(self.cols):\n",
        "                    tmp_dist = self.max_int\n",
        "                    rgb = []\n",
        "                    for c in centroids:\n",
        "                        distance = self.calculateEuclidieanDistance(\n",
        "                            image[x][y], c)\n",
        "                        if(distance < tmp_dist):\n",
        "                            tmp_dist = distance\n",
        "                            rgb = image[x][y]\n",
        "                    if(candidate_distance < tmp_dist):\n",
        "                        candidate_rgb = rgb\n",
        "                        candidate_distance = tmp_dist\n",
        "            centroids.append(candidate_rgb)\n",
        "        self.centroids = centroids\n",
        "\n",
        "    \"\"\"\n",
        "    La función train() calcula mediante un proceso iterativo los centroides óptimos (que minimizar el error) para el conjunto de datos.\n",
        "    \"\"\"\n",
        "    def train(self, image):\n",
        "        init_segments = {}\n",
        "        counts = {}\n",
        "        for center in self.centroids:\n",
        "            counts[tuple(center)] = 0\n",
        "            if self.channels == 1:\n",
        "                init_segments[center] = 0\n",
        "            elif self.channels == 3:\n",
        "                init_segments[tuple(center)] = [0, 0, 0]\n",
        "        for x in range(self.rows):\n",
        "            for y in range(self.cols):\n",
        "                dist = self.max_int\n",
        "                center_point = None\n",
        "                for _, center in enumerate(self.centroids):\n",
        "                    temp_distance = self.calculateEuclidieanDistance(center, image[x][y])\n",
        "                    if(temp_distance < dist):\n",
        "                        dist = temp_distance\n",
        "                        center_point = center\n",
        "                init_segments[tuple(center_point)] = [\n",
        "                    x+y for x, y in zip(init_segments[tuple(center_point)], image[x][y])]\n",
        "                counts[tuple(center_point)] += 1\n",
        "\n",
        "        for center in self.centroids:\n",
        "            if(self.channels == 1):\n",
        "                init_segments[tuple(center)] = init_segments[tuple(\n",
        "                    center)][0]//counts[tuple(center)]\n",
        "            else:\n",
        "                for c in range(self.channels):\n",
        "                    init_segments[tuple(center)][c] = init_segments[tuple(\n",
        "                        center)][c]//counts[tuple(center)]\n",
        "\n",
        "        last_centroids = self.centroids.copy()\n",
        "        self.centroids = list(init_segments.values()).copy()\n",
        "\n",
        "        error = sum(\n",
        "            sum(abs(x - y) for x, y in zip(center, self.centroids[count]))\n",
        "            for count, center in enumerate(last_centroids)\n",
        "        )\n",
        "        self.error = error\n",
        "        self.error_evolution.append(error)\n",
        "\n",
        "    \"\"\"\n",
        "    En la función clusterize() se le asigna a cada centroide su conjuntos de pixels correspondientes, utilizanod la función de calculo de la distancia euclidiana.\n",
        "    Así mismo, se realiza la identificación del cluster correspondiente al supuerto tumor mediante el método de selección del cluster con menor número de pixeles. \n",
        "    \"\"\"\n",
        "    def clusterize(self, image, write_image_path, write_image_name):\n",
        "        clusterized_data = {}\n",
        "        for centroid in self.centroids:\n",
        "            clusterized_data[str(centroid)] = []\n",
        "        for x in range(self.rows):\n",
        "            for y in range(self.cols):\n",
        "                dist = self.max_int\n",
        "                center = None\n",
        "                for centroid in self.centroids:\n",
        "                    temp = self.calculateEuclidieanDistance(image[x][y], centroid)\n",
        "                    if(temp < dist):\n",
        "                        center = centroid\n",
        "                        dist = temp\n",
        "                        clusterized_data[str(centroid)].append(\n",
        "                            Pixel(center, x, y))\n",
        "                image[x][y] = center\n",
        "\n",
        "        image_temp = image\n",
        "        # seleccionamos el cluster con menos pixeles considerando que podría tratarse del tumor\n",
        "        min_centroid = self.centroids[0]\n",
        "        for centroid in self.centroids:\n",
        "            if len(clusterized_data[str(min_centroid)]) > len(clusterized_data[str(centroid)]):\n",
        "                min_centroid = centroid\n",
        "\n",
        "        for centroid in self.centroids:\n",
        "            if min_centroid == centroid:\n",
        "                for pixel in clusterized_data[str(centroid)]:\n",
        "                    image_temp[pixel.x][pixel.y] = [255, 0, 0]\n",
        "\n",
        "        cv2.imwrite(f'{write_image_path}{write_image_name}', image_temp)\n",
        "        return clusterized_data[str(min_centroid)]\n",
        "\n",
        "    \"\"\"\n",
        "    Función para ejecutar todo el kmeans. Incluye la inicialización random de los centroides y el llamado a la función de entrenamiento.\n",
        "    \"\"\"\n",
        "    def execute(self, write_image_path, write_image_name, error_max=3):\n",
        "        image = cv2.imread(self.image_path)\n",
        "        self.rows, self.cols, self.channels = image.shape\n",
        "        self.initializeCentroids(image)\n",
        "        self.train(image)\n",
        "\n",
        "        #def show_info(error, centroids): return print(\n",
        "        #    \"Error : {} px , Centroids : {}\".format(error, centroids))  # [OPTIONAL] Show error <---------\n",
        "        while(self.error > error_max):\n",
        "            self.train(image)\n",
        "            # show_info(self.error,self.centroids) ####### [OPTIONAL] Show error <---------\n",
        "        print(self.error_evolution)\n",
        "        return self.clusterize(image, write_image_path, write_image_name)\n"
      ]
    },
    {
      "cell_type": "code",
      "execution_count": null,
      "metadata": {},
      "outputs": [],
      "source": [
        "read_path = 'data/dataset/'\n",
        "write_path = 'data/write_dataset/'\n",
        "\n",
        "def execute_kmeans_for_i_images(break_iterator):\n",
        "    imgs_with_tumor_cluster = {}\n",
        "    for filename in os.listdir(read_path):\n",
        "        if break_iterator == 0:\n",
        "            break\n",
        "        else:\n",
        "            break_iterator -= 1\n",
        "        abc = KMeans(k_value=4, image_path=f\"{read_path}{filename}\")\n",
        "        tumor_cluster = abc.execute(write_path, filename)\n",
        "        imgs_with_tumor_cluster[filename] = tumor_cluster\n",
        "    return imgs_with_tumor_cluster\n",
        "\n",
        "imgs_with_tumor_cluster = execute_kmeans_for_i_images(10)"
      ]
    },
    {
      "cell_type": "markdown",
      "metadata": {},
      "source": [
        "#### Step 2: Calcular el número de pixeles dentro del poligono del archivo JSON\n"
      ]
    },
    {
      "cell_type": "code",
      "execution_count": 8,
      "metadata": {},
      "outputs": [
        {
          "name": "stdout",
          "output_type": "stream",
          "text": [
            "El ratio de puntos para la imagen 189.jpg es: 1.00230729153745%\n",
            "El ratio de puntos para la imagen 162.jpg es: 0.15229972586049345%\n",
            "El ratio de puntos para la imagen 176.jpg es: 11.883235832890149%\n",
            "El ratio de puntos para la imagen 348.jpg es: 0.0%\n",
            "El ratio de puntos para la imagen 360.jpg es: 6.543654365436543%\n",
            "El ratio de puntos para la imagen 374.jpg es: 16.407744186826832%\n",
            "El ratio de puntos para la imagen 228.jpg es: 4.579480405107883%\n",
            "El ratio de puntos para la imagen 214.jpg es: 12.208444050782404%\n",
            "El ratio de puntos para la imagen 200.jpg es: 3.2653350332908344%\n",
            "El ratio de puntos para la imagen 201.jpg es: 0.7971700463355089%\n"
          ]
        }
      ],
      "source": [
        "for img_with_tumor_cluster in imgs_with_tumor_cluster.items():\n",
        "    ip.analyze(img_with_tumor_cluster[0], img_with_tumor_cluster[1])"
      ]
    },
    {
      "cell_type": "markdown",
      "metadata": {},
      "source": [
        "#### Experimentación\n"
      ]
    },
    {
      "cell_type": "code",
      "execution_count": 87,
      "metadata": {},
      "outputs": [
        {
          "name": "stdout",
          "output_type": "stream",
          "text": [
            "[45, 27, 15, 18, 12, 15, 18, 21, 15, 12, 12, 12, 15, 18, 18, 9, 9, 9, 9, 6, 6, 3, 3, 3, 3, 0]\n",
            "El ratio de puntos para la imagen 107.jpg es: 18.45672575599583%\n"
          ]
        }
      ],
      "source": [
        "image_name = \"107.jpg\"\n",
        "\n",
        "abc = KMeans(k_value=9, image_path=f\"{read_path}{image_name}\")\n",
        "tumor_cluster = abc.execute(write_path, image_name, error_max=1)\n",
        "ip.analyze(image_name, tumor_cluster)\n"
      ]
    },
    {
      "cell_type": "markdown",
      "metadata": {},
      "source": [
        "#### Resultados"
      ]
    },
    {
      "cell_type": "markdown",
      "metadata": {},
      "source": [
        "##### Mejor caso"
      ]
    },
    {
      "cell_type": "code",
      "execution_count": 5,
      "metadata": {},
      "outputs": [
        {
          "data": {
            "text/plain": [
              "True"
            ]
          },
          "execution_count": 5,
          "metadata": {},
          "output_type": "execute_result"
        }
      ],
      "source": [
        "import cv2\n",
        "import numpy as np\n",
        "from shapely.geometry import Polygon\n",
        "\n",
        "x = [75, 71,\n",
        "     67,\n",
        "     71,\n",
        "     73,\n",
        "     77,\n",
        "     100,\n",
        "     106,\n",
        "     114,\n",
        "     123,\n",
        "     133,\n",
        "     158,\n",
        "     164,\n",
        "     167,\n",
        "     166,\n",
        "     157,\n",
        "     144,\n",
        "     126,\n",
        "     111,\n",
        "     112,\n",
        "     105,\n",
        "     92,\n",
        "     79]\n",
        "y = [89,\n",
        "     99,\n",
        "     111,\n",
        "     126,\n",
        "     134,\n",
        "     144,\n",
        "     152,\n",
        "     163,\n",
        "     164,\n",
        "     161,\n",
        "     165,\n",
        "     154,\n",
        "     135,\n",
        "     119,\n",
        "     103,\n",
        "     84,\n",
        "     72,\n",
        "     67,\n",
        "     68,\n",
        "     81,\n",
        "     86,\n",
        "     80,\n",
        "     84]\n",
        "alpha = 0.5  # that's your transparency factor\n",
        "path = 'data/write_dataset/107.jpg'\n",
        "\n",
        "polygon_points = []\n",
        "for i in range(len(x)):\n",
        "     polygon_points.append((x[i], y[i]))\n",
        "\n",
        "polygon = Polygon(polygon_points)\n",
        "def int_coords(x): return np.array(x).round().astype(np.int32)\n",
        "\n",
        "\n",
        "exterior = [int_coords(polygon.exterior.coords)]\n",
        "\n",
        "image = cv2.imread(path)\n",
        "overlay = image.copy()\n",
        "cv2.fillPoly(overlay, exterior, color=(255, 255, 0))\n",
        "cv2.addWeighted(overlay, alpha, image, 1 - alpha, 0, image)\n",
        "cv2.imwrite(\"data/write_dataset/107_with_real_tumor_on_clusterized.jpg\", image)"
      ]
    },
    {
      "cell_type": "markdown",
      "metadata": {},
      "source": [
        "##### Peor caso"
      ]
    },
    {
      "cell_type": "code",
      "execution_count": 17,
      "metadata": {},
      "outputs": [
        {
          "data": {
            "text/plain": [
              "True"
            ]
          },
          "execution_count": 17,
          "metadata": {},
          "output_type": "execute_result"
        }
      ],
      "source": [
        "import cv2\n",
        "import numpy as np\n",
        "from shapely.geometry import Polygon\n",
        "\n",
        "x = [309,\n",
        "                  284,\n",
        "                  269,\n",
        "                  269,\n",
        "                  274,\n",
        "                  286,\n",
        "                  358,\n",
        "                  390,\n",
        "                  402,\n",
        "                  365,\n",
        "                  335,\n",
        "                  321]\n",
        "y = [158,\n",
        "                  166,\n",
        "                  184,\n",
        "                  205,\n",
        "                  235,\n",
        "                  257,\n",
        "                  273,\n",
        "                  257,\n",
        "                  232,\n",
        "                  153,\n",
        "                  140,\n",
        "                  146]\n",
        "alpha = 0.5  # that's your transparency factor\n",
        "path = 'data/dataset/348.jpg'\n",
        "\n",
        "polygon_points = []\n",
        "for i in range(len(x)):\n",
        "     polygon_points.append((x[i], y[i]))\n",
        "\n",
        "polygon = Polygon(polygon_points)\n",
        "def int_coords(x): return np.array(x).round().astype(np.int32)\n",
        "\n",
        "\n",
        "exterior = [int_coords(polygon.exterior.coords)]\n",
        "\n",
        "image = cv2.imread(path)\n",
        "overlay = image.copy()\n",
        "cv2.fillPoly(overlay, exterior, color=(255, 255, 0))\n",
        "cv2.addWeighted(overlay, alpha, image, 1 - alpha, 0, image)\n",
        "cv2.imwrite(\"data/write_dataset/348_no_clusterized.jpg\", image)"
      ]
    }
  ],
  "metadata": {
    "colab": {
      "collapsed_sections": [],
      "name": "k-means.ipynb",
      "provenance": []
    },
    "interpreter": {
      "hash": "b0fa6594d8f4cbf19f97940f81e996739fb7646882a419484c72d19e05852a7e"
    },
    "kernelspec": {
      "display_name": "Python 3.9.12 64-bit",
      "language": "python",
      "name": "python3"
    },
    "language_info": {
      "codemirror_mode": {
        "name": "ipython",
        "version": 3
      },
      "file_extension": ".py",
      "mimetype": "text/x-python",
      "name": "python",
      "nbconvert_exporter": "python",
      "pygments_lexer": "ipython3",
      "version": "3.9.12"
    }
  },
  "nbformat": 4,
  "nbformat_minor": 0
}
