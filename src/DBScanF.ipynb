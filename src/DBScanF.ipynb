{
  "nbformat": 4,
  "nbformat_minor": 0,
  "metadata": {
    "colab": {
      "name": "DBScanF.ipynb",
      "provenance": []
    },
    "kernelspec": {
      "name": "python3",
      "display_name": "Python 3"
    },
    "language_info": {
      "name": "python"
    }
  },
  "cells": [
    {
      "cell_type": "code",
      "execution_count": 1,
      "metadata": {
        "id": "EzagZV5jlD8G"
      },
      "outputs": [],
      "source": [
        "from sklearn.datasets import make_blobs\n",
        "import matplotlib.pyplot as plt\n",
        "import pandas as pd\n",
        "import numpy as np\n",
        "import random"
      ]
    },
    {
      "cell_type": "code",
      "source": [
        "centers = [(0, 4), (5, 5), (3,5)]\n",
        "cluster_std = [0.4, 0.2, 0.3]\n",
        "n = 200\n",
        "\n",
        "X, Y= make_blobs(n_samples=n, cluster_std=cluster_std, centers=centers, n_features=2, random_state=1)\n",
        "\n",
        "plt.scatter(X[Y == 0, 0], X[Y == 0, 1], s=10, label=\"Cluster1\")\n",
        "plt.scatter(X[Y == 1, 0], X[Y == 1, 1], s=10, label=\"Cluster2\")\n",
        "plt.scatter(X[Y == 2, 0], X[Y == 2, 1], s=10, label=\"Cluster3\")\n",
        "plt.title(\"Scattered data\")"
      ],
      "metadata": {
        "colab": {
          "base_uri": "https://localhost:8080/",
          "height": 298
        },
        "id": "EBo0Kn-rlHzP",
        "outputId": "d59442e7-1049-45b7-9df1-8e6d57c362ed"
      },
      "execution_count": 83,
      "outputs": [
        {
          "output_type": "execute_result",
          "data": {
            "text/plain": [
              "Text(0.5, 1.0, 'Scattered data')"
            ]
          },
          "metadata": {},
          "execution_count": 83
        },
        {
          "output_type": "display_data",
          "data": {
            "text/plain": [
              "<Figure size 432x288 with 1 Axes>"
            ],
            "image/png": "[encoded data removed]"
          },
          "metadata": {
            "needs_background": "light"
          }
        }
      ]
    },
    {
      "cell_type": "code",
      "source": [
        "def validate(eps, minp, data, index):\n",
        "  x, y = data.iloc[index]['X']  ,  data.iloc[index]['Y']\n",
        "  temp =  data[((np.abs(x - data['X']) <= eps) & (np.abs(y - data['Y']) <= eps)) & (data.index != index)] #r\n",
        "  #0 for core 1 for border 2 for noise\n",
        "  if len(temp) >= minp:\n",
        "      classP = 0\n",
        "  elif (len(temp) < minp) and len(temp) > 0:\n",
        "      classP = 1\n",
        "  elif len(temp) == 0:\n",
        "      classP = 2\n",
        "  return (temp.index , classP)"
      ],
      "metadata": {
        "id": "jWdTPpqlHlYM"
      },
      "execution_count": 3,
      "outputs": []
    },
    {
      "cell_type": "code",
      "source": [
        "def labelC(eps, minPts, data):\n",
        "    nCluster = 1\n",
        "    current = set()\n",
        "    unvisited = list(data.index)\n",
        "    arrIndex = [0] * n\n",
        "    \n",
        "    while unvisited:\n",
        "        first_point = True\n",
        "        current.add(random.choice(unvisited))\n",
        "        while current:\n",
        "            currI = current.pop()\n",
        "            neighI, classP = validate(eps, minPts, data, currI)\n",
        "            if (classP==1 and first_point):\n",
        "                arrIndex[currI] = 0\n",
        "                unvisited.remove(currI)\n",
        "                unvisited = [e for e in unvisited if e not in neighI]\n",
        "                continue\n",
        "            unvisited.remove(currI)\n",
        "\n",
        "            neighI = set(neighI) & set(unvisited)\n",
        "\n",
        "            if classP==0:\n",
        "                first_point = False\n",
        "                arrIndex[currI] = nCluster\n",
        "                current.update(neighI)\n",
        "            elif classP==1:\n",
        "                arrIndex[currI] = nCluster\n",
        "                continue\n",
        "            elif classP==2:\n",
        "                arrIndex[currI] = 0\n",
        "                continue  \n",
        "            \n",
        "        if not first_point:\n",
        "            nCluster+=1\n",
        "    return arrIndex, nCluster"
      ],
      "metadata": {
        "id": "KEr9ByxRs7iQ"
      },
      "execution_count": 111,
      "outputs": []
    },
    {
      "cell_type": "code",
      "source": [
        "eps = 0.3\n",
        "minp = 3\n",
        "\n",
        "data = pd.DataFrame(X, columns = [\"X\", \"Y\"] )\n",
        "arrIndex, nCluster = labelC(eps, minp, data)\n",
        "print(len(arrIndex))\n",
        "indx = list(range(0,n))\n",
        "\n",
        "df = pd.DataFrame()\n",
        "df['indx']  = indx\n",
        "df['cluster']  = arrIndex\n",
        "\n",
        "for clust in range(nCluster):\n",
        "  plt.scatter(X[df[\"indx\"][df[\"cluster\"] == clust].values, 0], X[df[\"indx\"][df[\"cluster\"] == clust].values, 1], s=10, label=f\"Cluster{clust}\")\n",
        "\n",
        "plt.legend([f\"Cluster {clust}\" for clust in range(nCluster)], loc =\"lower right\")\n",
        "plt.title('DBSCAN')\n",
        "plt.show()"
      ],
      "metadata": {
        "colab": {
          "base_uri": "https://localhost:8080/",
          "height": 298
        },
        "id": "PYYqlX_CoDIv",
        "outputId": "9346292b-f1df-47aa-f14a-5a9b782e38e5"
      },
      "execution_count": 113,
      "outputs": [
        {
          "output_type": "stream",
          "name": "stdout",
          "text": [
            "200\n"
          ]
        },
        {
          "output_type": "display_data",
          "data": {
            "text/plain": [
              "<Figure size 432x288 with 1 Axes>"
            ],
            "image/png": "[encoded data removed]"
          },
          "metadata": {
            "needs_background": "light"
          }
        }
      ]
    }
  ]
}