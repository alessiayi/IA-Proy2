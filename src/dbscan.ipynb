{
 "cells": [
  {
   "cell_type": "code",
   "execution_count": 133,
   "metadata": {},
   "outputs": [],
   "source": [
    "import numpy as np\n",
    "from PIL import Image\n",
    "import image_processing as ip\n",
    "import pandas as pd"
   ]
  },
  {
   "cell_type": "code",
   "execution_count": 30,
   "metadata": {},
   "outputs": [],
   "source": [
    "def in_bounds(img, i, j):\n",
    "    width, height = img.size\n",
    "    return i >= 0 and i < width and j >= 0 and j < height"
   ]
  },
  {
   "cell_type": "code",
   "execution_count": 31,
   "metadata": {},
   "outputs": [],
   "source": [
    "def get_neighbors(img, i, j, radius):\n",
    "    neighbors = []\n",
    "    for r in range(1, radius + 1):\n",
    "        if in_bounds(img, i - r, j): # arriba\n",
    "            neighbors.append((i - r, j))\n",
    "        if in_bounds(img, i - r, j + r): # arriba derecha\n",
    "            neighbors.append((i - r, j + r))\n",
    "        if in_bounds(img, i, j + r): # derecha\n",
    "            neighbors.append((i, j + r))\n",
    "        if in_bounds(img, i + r, j + r): # abajo derecha\n",
    "            neighbors.append((i + r, j + r))\n",
    "        if in_bounds(img, i + r, j): # abajo\n",
    "            neighbors.append((i + r, j))\n",
    "        if in_bounds(img, i + r, j - r): # abajo a la izquierda\n",
    "            neighbors.append((i + r, j - r))\n",
    "        if in_bounds(img, i, j - r): # izquierda\n",
    "            neighbors.append((i, j - r))\n",
    "        if in_bounds(img, i - r, j - r): # arriba a la izquierda\n",
    "            neighbors.append((i - r, j - r))\n",
    "    return neighbors"
   ]
  },
  {
   "cell_type": "code",
   "execution_count": 32,
   "metadata": {},
   "outputs": [],
   "source": [
    "def euclidean_dist(point1, point2):\n",
    "    return np.linalg.norm(point1 - point2)"
   ]
  },
  {
   "cell_type": "code",
   "execution_count": 38,
   "metadata": {},
   "outputs": [],
   "source": [
    "def get_density(img, i, j, t):\n",
    "    neighbors = get_neighbors(img, i, j, 1)\n",
    "    eps = 0\n",
    "    for neighbor in neighbors:\n",
    "        n_i, n_j = neighbor\n",
    "        r1, g1, b1 = img.getpixel((i, j))\n",
    "        r2, g2, b2 = img.getpixel((n_i, n_j))\n",
    "        p1 = np.array([r1, g1, b1])\n",
    "        p2 = np.array([r2, g2, b2])\n",
    "        if euclidean_dist(p1, p2) <= t:\n",
    "            eps += 1\n",
    "    return eps"
   ]
  },
  {
   "cell_type": "code",
   "execution_count": 125,
   "metadata": {},
   "outputs": [],
   "source": [
    "def dbscan(img_path, t, r, eps):\n",
    "    img = Image.open(img_path).convert(\"RGB\")\n",
    "    width, height = img.size\n",
    "    visited = [[False for _ in range(height)] for _ in range(width)]\n",
    "    cluster = [[-1 for _ in range(height)] for _ in range(width)]\n",
    "    cur_cluster = 0\n",
    "    for i in range(width):\n",
    "        for j in range(height):\n",
    "            if visited[i][j]:\n",
    "                continue\n",
    "            visited[i][j] = True\n",
    "            den = get_density(img, i, j, t)\n",
    "            if den >= eps:\n",
    "                cluster[i][j] = cur_cluster\n",
    "                cur_cluster += 1\n",
    "                neighbors = get_neighbors(img, i, j, r)\n",
    "                while len(neighbors) > 0:\n",
    "                    n_i, n_j = neighbors.pop()\n",
    "                    if visited[n_i][n_j]:\n",
    "                        continue\n",
    "                    visited[n_i][n_j] = True\n",
    "                    den = get_density(img, n_i, n_j, t)\n",
    "                    if den >= eps:\n",
    "                        cluster[n_i][n_j] = cluster[i][j]\n",
    "                        new_neighbors = get_neighbors(img, n_i, n_j, r)\n",
    "                        for new_neighbor in new_neighbors:\n",
    "                            neighbors.append(new_neighbor)\n",
    "            else:\n",
    "                cluster[i][j] = -1\n",
    "    # print(cur_cluster)\n",
    "    return cluster, cur_cluster"
   ]
  },
  {
   "cell_type": "code",
   "execution_count": 115,
   "metadata": {},
   "outputs": [],
   "source": [
    "class Pixel:\n",
    "    def __init__(self, rgb, x, y):\n",
    "        self.rgb = rgb\n",
    "        self.x = x\n",
    "        self.y = y"
   ]
  },
  {
   "cell_type": "code",
   "execution_count": 129,
   "metadata": {},
   "outputs": [],
   "source": [
    "def paint_brain(clusters, total_clusters):\n",
    "    total_colors = total_clusters\n",
    "    colors = [list(np.random.choice(range(256), size=3)) for _ in range(total_colors + 1)]\n",
    "    img = []\n",
    "    tumor_cluster_pixels = []\n",
    "    for i in range(len(clusters)):\n",
    "        row = []\n",
    "        for j in range(len(clusters[0])):\n",
    "            if clusters[i][j] != -1:\n",
    "                row.append(colors[clusters[i][j]])\n",
    "            else:\n",
    "                row.append([0, 0, 0])\n",
    "                p = Pixel([0, 0, 0], i, j)\n",
    "                tumor_cluster_pixels.append(p)\n",
    "        img.append(np.array(row))\n",
    "    img = np.array(img)\n",
    "    return Image.fromarray(img.astype(np.uint8)), tumor_cluster_pixels"
   ]
  },
  {
   "cell_type": "code",
   "execution_count": 123,
   "metadata": {},
   "outputs": [
    {
     "name": "stdout",
     "output_type": "stream",
     "text": [
      "1\n",
      "total clusters 1\n",
      "El ratio de puntos para la imagen 107.jpg es: 20.757592249918364%\n"
     ]
    }
   ],
   "source": [
    "clusters, total_clusters = dbscan(\"data/dataset/107.jpg\", t=8, r=15, eps=5)\n",
    "_, tumor_cluster_pixels = paint_brain(clusters, total_clusters)\n",
    "ip.analyze(\"107.jpg\", tumor_cluster_pixels)"
   ]
  },
  {
   "cell_type": "code",
   "execution_count": 136,
   "metadata": {},
   "outputs": [
    {
     "name": "stdout",
     "output_type": "stream",
     "text": [
      "El ratio de puntos para la imagen 107.jpg es: 21.26087412220941%\n",
      "El ratio de puntos para la imagen 107.jpg es: 19.980497912667214%\n",
      "El ratio de puntos para la imagen 107.jpg es: 18.573793250747546%\n",
      "El ratio de puntos para la imagen 107.jpg es: 16.270048320137928%\n",
      "El ratio de puntos para la imagen 107.jpg es: 21.26087412220941%\n",
      "El ratio de puntos para la imagen 107.jpg es: 19.980497912667214%\n",
      "El ratio de puntos para la imagen 107.jpg es: 18.573793250747546%\n",
      "El ratio de puntos para la imagen 107.jpg es: 16.270048320137928%\n",
      "El ratio de puntos para la imagen 107.jpg es: 21.26087412220941%\n",
      "El ratio de puntos para la imagen 107.jpg es: 19.980497912667214%\n",
      "El ratio de puntos para la imagen 107.jpg es: 18.573793250747546%\n",
      "El ratio de puntos para la imagen 107.jpg es: 16.270048320137928%\n",
      "El ratio de puntos para la imagen 107.jpg es: 16.184892282519773%\n",
      "El ratio de puntos para la imagen 107.jpg es: 20.69879119059447%\n",
      "El ratio de puntos para la imagen 107.jpg es: 21.88390458357079%\n",
      "El ratio de puntos para la imagen 107.jpg es: 20.199218257470687%\n",
      "El ratio de puntos para la imagen 107.jpg es: 11.3384484228474%\n",
      "El ratio de puntos para la imagen 107.jpg es: 17.286713286713287%\n",
      "El ratio de puntos para la imagen 107.jpg es: 19.815043156596793%\n",
      "El ratio de puntos para la imagen 107.jpg es: 20.615490711607258%\n"
     ]
    }
   ],
   "source": [
    "# experimentación\n",
    "parametros_t = [0.1, 0.5, 1, 5, 10]\n",
    "parametros_r = [20]\n",
    "parametros_eps = [1, 3, 5, 7]\n",
    "\n",
    "for t in parametros_t:\n",
    "    for eps in parametros_eps:\n",
    "        clusters, total_clusters = dbscan(\"data/dataset/107.jpg\", t=t, r=15, eps=eps)\n",
    "        _, tumor_cluster_pixels = paint_brain(clusters, total_clusters)\n",
    "        # print(\"t\", t, \"r\", 15, \"eps\", eps)"
   ]
  }
 ],
 "metadata": {
  "interpreter": {
   "hash": "40d3a090f54c6569ab1632332b64b2c03c39dcf918b08424e98f38b5ae0af88f"
  },
  "kernelspec": {
   "display_name": "Python 3.9.7 ('base')",
   "language": "python",
   "name": "python3"
  },
  "language_info": {
   "codemirror_mode": {
    "name": "ipython",
    "version": 3
   },
   "file_extension": ".py",
   "mimetype": "text/x-python",
   "name": "python",
   "nbconvert_exporter": "python",
   "pygments_lexer": "ipython3",
   "version": "3.9.7"
  },
  "orig_nbformat": 4
 },
 "nbformat": 4,
 "nbformat_minor": 2
}
